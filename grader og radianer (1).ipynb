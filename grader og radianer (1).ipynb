{
 "cells": [
  {
   "cell_type": "markdown",
   "id": "5ffa7f0d",
   "metadata": {},
   "source": [
    "# Grader og radianer\n",
    "\n",
    "---\n",
    "\n",
    "Her ser vi på den matematiske sammenhengen mellom vinkelmålene grader og radianer.\n",
    "Vi lager funksjoner i python for å gjøre om mellom dem.\n",
    "\n",
    "Definisjon av en radian:\n",
    "Radian er et vinkelmål, definert ved buelengde delt på radius.\n",
    "\n",
    "Se for deg en sirkel som deles inn i sektorer.\n",
    "Én radian er da en sektor hvor buelengden _b_ er like lang som radiusen _r_.\n",
    "\n",
    "$ b = r $\n",
    "\n",
    "Det er plass til $ 2 \\pi $ antall radianer i en sirkel."
   ]
  },
  {
   "cell_type": "markdown",
   "id": "97d76d3f",
   "metadata": {},
   "source": [
    "\n",
    "## Fra grader til radianer\n",
    "\n",
    "---\n",
    "\n",
    "Forholdet mellom grader og radianer er:\n",
    "\n",
    "$ 360 \\unicode{xB0} = 2 \\pi $\n",
    "\n",
    "Vi kan dermed gjøre om fra grader til radianer denne måten:\n",
    "\n",
    "$ radianer = \\frac{grader}{180 \\unicode{xB0}} \\cdot \\pi $\n",
    "\n",
    "_Eksempel:_\n",
    "\n",
    "Her regner vi om $ 45 \\unicode{xB0} $ til radianer:\n",
    "\n",
    "$ \\frac{45 \\unicode{xB0}}{180 \\unicode{xB0}} \\cdot \\pi = 0,785 $\n",
    "\n",
    "45 grader tilsvarer altså 0,785 radianer.\n",
    "\n",
    "I python:"
   ]
  },
  {
   "cell_type": "code",
   "execution_count": 2,
   "id": "c6524972",
   "metadata": {},
   "outputs": [
    {
     "name": "stdout",
     "output_type": "stream",
     "text": [
      "0.785\n",
      "1.168777777777778\n",
      "3.14\n"
     ]
    }
   ],
   "source": [
    "pi = 3.14\n",
    "\n",
    "def grader_til_radianer(grader):\n",
    "    radianer = (grader / 180) * pi\n",
    "    \n",
    "    return radianer\n",
    "\n",
    "print(grader_til_radianer(45))\n",
    "print(grader_til_radianer(67))\n",
    "print(grader_til_radianer(180))"
   ]
  },
  {
   "cell_type": "markdown",
   "id": "d96b38a9",
   "metadata": {},
   "source": [
    "\n",
    "## Fra radianer til grader\n",
    "\n",
    "---\n",
    "\n",
    "Vi vet at:\n",
    "\n",
    "$ radianer = \\frac{grader}{180 \\unicode{xB0}} \\cdot \\pi $\n",
    "\n",
    "Ved hjelp av litt algebra kan vi skrive om til:\n",
    "\n",
    "$ grader = \\frac{radianer}{\\pi} \\cdot 180 \\unicode{xB0} $\n",
    "\n",
    "I python kan vi dermed lage denne funksjonen:"
   ]
  },
  {
   "cell_type": "code",
   "execution_count": 7,
   "id": "27bef2ee",
   "metadata": {},
   "outputs": [
    {
     "name": "stdout",
     "output_type": "stream",
     "text": [
      "90.0\n",
      "180.0\n",
      "360.0\n"
     ]
    }
   ],
   "source": [
    "pi = 3.14\n",
    "\n",
    "def radianer_til_grader(radianer):\n",
    "    grader = (radianer / pi) * 180\n",
    "    \n",
    "    return grader\n",
    "\n",
    "print(radianer_til_grader(pi/2))\n",
    "print(radianer_til_grader(pi))\n",
    "print(radianer_til_grader(2*pi))"
   ]
  },
  {
   "cell_type": "markdown",
   "id": "06cc89bc",
   "metadata": {},
   "source": []
  },
  {
   "cell_type": "markdown",
   "id": "d386faf3",
   "metadata": {},
   "source": [
    "\n",
    "## Se også:\n",
    "\n",
    "---\n",
    "\n",
    " - https://no.wikipedia.org/wiki/Radian\n",
    " "
   ]
  }
 ],
 "metadata": {
  "kernelspec": {
   "display_name": "Python 3",
   "language": "python",
   "name": "python3"
  },
  "language_info": {
   "codemirror_mode": {
    "name": "ipython",
    "version": 3
   },
   "file_extension": ".py",
   "mimetype": "text/x-python",
   "name": "python",
   "nbconvert_exporter": "python",
   "pygments_lexer": "ipython3",
   "version": "3.8.10"
  }
 },
 "nbformat": 4,
 "nbformat_minor": 5
}
